{
 "cells": [
  {
   "cell_type": "markdown",
   "metadata": {},
   "source": [
    "# 1. Estimation of the parameter $H$\n",
    "We consider a sport variance $V_t$ of a *Lifted Heston model* with $n$ factors and initial curve $g_0(t)$ give by:\n",
    "$$g_0(t)=V_0+\\lambda\\theta\\sum_{i=1}^{n}c_i\\int_0^t\\exp(-x_i(t-s))\\,\\mathrm ds$$\n",
    "The weights $(c_i)_{1\\leq i\\leq n}$ and the mean reversions $(x_i)_{1\\leq i\\leq n}$ are parametrized with a constant $r$ denoted by $r_n$."
   ]
  },
  {
   "cell_type": "code",
   "execution_count": 1,
   "metadata": {},
   "outputs": [],
   "source": [
    "import numpy as np\n",
    "import matplotlib.pyplot as plt\n",
    "\n",
    "from scipy.special import gamma\n",
    "from scipy.integrate import quad\n",
    "\n",
    "import warnings\n",
    "\n",
    "warnings.filterwarnings(\"ignore\")"
   ]
  },
  {
   "cell_type": "code",
   "execution_count": 2,
   "metadata": {},
   "outputs": [],
   "source": [
    "# Parameters of the Lifted Heston model\n",
    "n = 20\n",
    "V0 = 0.05\n",
    "lambda_ = 0.3\n",
    "theta = 0.05\n",
    "nu = 0.1\n",
    "alpha = 0.6  # H + 0.5\n",
    "H = alpha - 0.5\n",
    "r20 = 2.5"
   ]
  },
  {
   "cell_type": "markdown",
   "metadata": {},
   "source": [
    "## Question 1 - Path of variance process\n",
    "\n",
    "To simulate the variance in the Lifted Heston model we can use an **implicite-explicit Euler scheme**.\n",
    "\n",
    "**Scheme:** For a simulation $\\left(W_{t_k}\\right)$ of a Brownian motion on a uniform partition of the $[0,T]$ with step $\\Delta t = t_k - t_{k-1}$ let's consider the following scheme:\n",
    "\n",
    "$$\\hat{V}_{t_k} = g_0(t_k) + \\sum_{i=1}^{n} c_i \\hat U_{t_k}^i$$\n",
    "\n",
    "$$\\hat U_{t_{k+1}}^i = \\frac{1}{1+x_i \\Delta t} \\left( \\hat U_{t_k}^i - \\lambda \\hat V_{t_k} \\Delta t + \\nu \\sqrt{max\\left(0, \\hat V_{t_k}\\right)} (W_{t+1}- W_{t_k})\\right)$$\n",
    "\n",
    "First, we are going to simulate a Brownian motion $W_t$."
   ]
  },
  {
   "cell_type": "code",
   "execution_count": null,
   "metadata": {},
   "outputs": [],
   "source": [
    "T = 1\n",
    "delta_t = 1 / 10000\n",
    "\n",
    "time = np.linspace(0, T, int(T / delta_t) + 1)\n",
    "\n",
    "n = 20\n",
    "\n",
    "V0 = 0.05\n",
    "lambda_ = 0.3\n",
    "theta = 0.05\n",
    "nu = 0.1\n",
    "alpha = 0.6  # H + 0.5\n",
    "H = alpha - 0.5\n",
    "r20 = 2.5"
   ]
  },
  {
   "cell_type": "code",
   "execution_count": null,
   "metadata": {},
   "outputs": [],
   "source": [
    "w = np.cumsum(np.random.normal(0, 1, len(time)))\n",
    "w[0] = 0\n",
    "\n",
    "plt.figure(figsize=(15, 5))\n",
    "plt.plot(time, w)\n",
    "plt.title(\"Brownian motion\")\n",
    "plt.xlabel(\"Time\")\n",
    "plt.ylabel(\"Value\")\n",
    "plt.grid()\n",
    "plt.show()"
   ]
  },
  {
   "cell_type": "markdown",
   "metadata": {},
   "source": [
    "To run our first variance simulation, we need the following formulas:\n",
    "$$\\begin{aligned}\n",
    "\\hat V_{t_k}&=g_0(t_k)+\\sum_{i=1}^{n}c_i\\hat U^i_{t_k}\\\\\n",
    "\\hat U^i_{t_k}&=\\frac1{1+x_i\\Delta t}\\left(\\hat U^i_{t_{k-1}}+\\lambda\\hat V_{t_k}\\Delta t+\\nu\\sqrt{\\max(0,\\hat{V}_{t_k})}(W_{t_{k+1}}-W_{t_k})\\right)\n",
    "\\end{aligned}$$\n",
    "where $W_t$ is a Brownian motion, $\\Delta t$ is the time step.\n",
    "\n",
    "First, we have $n$ even and $r_{20}>1$ so we can use the geometric partition for the weights and the mean reversions."
   ]
  },
  {
   "cell_type": "code",
   "execution_count": null,
   "metadata": {},
   "outputs": [],
   "source": [
    "coef = (r20 ** (1 - alpha) - 1) / (gamma(alpha) * gamma(2 - alpha))\n",
    "weights = np.array(\n",
    "    [coef * r20 ** ((1 - alpha) * (i - 1 - n / 2)) for i in range(1, n + 1)]\n",
    ")\n",
    "\n",
    "coef = ((1 - alpha) * r20 ** (2 - alpha) - 1) / ((2 - alpha) * r20 ** (1 - alpha) - 1)\n",
    "mean_reversions = np.array([coef * r20 ** (i - 1 - n / 2) for i in range(1, n + 1)])\n",
    "\n",
    "del coef\n",
    "\n",
    "\n",
    "def g0(t: float) -> float:\n",
    "    \"\"\"Initial curve of the model\n",
    "\n",
    "    Args:\n",
    "        t (float | np.ndarray): time\n",
    "\n",
    "    Raises:\n",
    "        ValueError: t must be positive\n",
    "\n",
    "    Returns:\n",
    "        float: curve value\n",
    "    \"\"\"\n",
    "    if t < 0:\n",
    "        raise ValueError(\"t must be positive\")\n",
    "    return V0 + lambda_ * theta * np.sum(\n",
    "        [\n",
    "            weight * quad(lambda s: np.exp(-x * (t - s)), 0, t)[0]\n",
    "            for weight, x in zip(weights, mean_reversions)\n",
    "        ]\n",
    "    )\n",
    "\n",
    "\n",
    "g0 = np.vectorize(g0)"
   ]
  },
  {
   "cell_type": "code",
   "execution_count": null,
   "metadata": {},
   "outputs": [],
   "source": [
    "initial_curve_on_time = g0(time)"
   ]
  },
  {
   "cell_type": "code",
   "execution_count": null,
   "metadata": {},
   "outputs": [],
   "source": [
    "plt.figure(figsize=(15, 5))\n",
    "plt.plot(time, initial_curve_on_time)\n",
    "plt.title(\"Initial curve\")\n",
    "plt.xlabel(\"Time\")\n",
    "plt.ylabel(\"Value\")\n",
    "plt.grid()\n",
    "plt.show()"
   ]
  },
  {
   "cell_type": "markdown",
   "metadata": {},
   "source": [
    "Now we can define $\\hat{V}_{t_k}$ and $\\hat{U}^i_{t_k}$."
   ]
  },
  {
   "cell_type": "code",
   "execution_count": null,
   "metadata": {},
   "outputs": [],
   "source": [
    "v = np.zeros(len(time))\n",
    "u = np.zeros((len(time), n))\n",
    "\n",
    "for j, t in enumerate(time):\n",
    "    v[j] = initial_curve_on_time[j] + np.sum(weights * u[j, :])\n",
    "    if j == len(time) - 1:\n",
    "        break\n",
    "    for i in range(n):\n",
    "        u[j + 1, i] = (\n",
    "            1\n",
    "            / (1 + mean_reversions[i] * delta_t)\n",
    "            * (\n",
    "                u[j, i]\n",
    "                - lambda_ * v[j] * delta_t\n",
    "                + nu * np.sqrt(np.maximum(v[j], 0)) * (w[j + 1] - w[j])\n",
    "            )\n",
    "        )"
   ]
  },
  {
   "cell_type": "code",
   "execution_count": null,
   "metadata": {},
   "outputs": [],
   "source": [
    "plt.figure(figsize=(15, 5))\n",
    "plt.title(\"Variance process\")\n",
    "plt.plot(time, v)\n",
    "plt.xlabel(\"Time\")\n",
    "plt.ylabel(\"Variance\")\n",
    "plt.show()"
   ]
  }
 ],
 "metadata": {
  "kernelspec": {
   "display_name": ".venv",
   "language": "python",
   "name": "python3"
  },
  "language_info": {
   "codemirror_mode": {
    "name": "ipython",
    "version": 3
   },
   "file_extension": ".py",
   "mimetype": "text/x-python",
   "name": "python",
   "nbconvert_exporter": "python",
   "pygments_lexer": "ipython3",
   "version": "3.10.8"
  }
 },
 "nbformat": 4,
 "nbformat_minor": 2
}
