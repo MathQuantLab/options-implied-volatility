{
 "cells": [
  {
   "cell_type": "markdown",
   "metadata": {},
   "source": [
    "# Estimation of the parameter $H$\n",
    "We consider a sport variance $V_t$ of a *Lifted Heston model* with $n$ factors and initial curve $g_0(t)$ give by:\n",
    "$$g_0(t)=V_0+\\lambda\\theta\\sum_{i=1}^{n}c_i\\int_0^t\\exp(-x_i(t-s))\\,\\mathrm ds$$\n",
    "The weights $(c_i)_{1\\leq i\\leq n}$ and the mean reversions $(x_i)_{1\\leq i\\leq n}$ are parametrized with a constant $r$ denoted by $r_n$."
   ]
  },
  {
   "cell_type": "code",
   "execution_count": 1,
   "metadata": {},
   "outputs": [],
   "source": [
    "import numpy as np\n",
    "import matplotlib.pyplot as plt\n",
    "\n",
    "import warnings\n",
    "\n",
    "warnings.filterwarnings(\"ignore\")"
   ]
  },
  {
   "cell_type": "code",
   "execution_count": 2,
   "metadata": {},
   "outputs": [],
   "source": [
    "# Settings constants\n",
    "n = 20\n",
    "V0 = 0.05\n",
    "lambda_ = 0.3\n",
    "theta = 0.05\n",
    "nu = 0.1\n",
    "alpha = 0.6  # H + 0.5\n",
    "H = alpha - 0.5\n",
    "r20 = 2.5"
   ]
  },
  {
   "cell_type": "markdown",
   "metadata": {},
   "source": [
    "## Path of variance process"
   ]
  }
 ],
 "metadata": {
  "kernelspec": {
   "display_name": ".venv",
   "language": "python",
   "name": "python3"
  },
  "language_info": {
   "codemirror_mode": {
    "name": "ipython",
    "version": 3
   },
   "file_extension": ".py",
   "mimetype": "text/x-python",
   "name": "python",
   "nbconvert_exporter": "python",
   "pygments_lexer": "ipython3",
   "version": "3.12.2"
  }
 },
 "nbformat": 4,
 "nbformat_minor": 2
}
